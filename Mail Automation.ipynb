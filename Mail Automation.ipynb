{
 "cells": [
  {
   "cell_type": "code",
   "execution_count": 63,
   "metadata": {},
   "outputs": [],
   "source": [
    "import os, smtplib, ssl, getpass, datetime,imaplib\n",
    "from email.mime.multipart import MIMEMultipart\n",
    "from email.mime.text import MIMEText\n",
    "from email.mime.application import MIMEApplication\n",
    "from email.mime.base import MIMEBase\n",
    "from email import encoders as Encoders\n",
    "import pandas as pd"
   ]
  },
  {
   "cell_type": "code",
   "execution_count": 64,
   "metadata": {},
   "outputs": [],
   "source": [
    "def send_mail(username, password, from_addr, to_addrs, msg):\n",
    "    context = ssl.create_default_context()\n",
    "    with smtplib.SMTP_SSL(\"smtp.gmail.com\", port, context=context) as server:\n",
    "        server.login(username, password)\n",
    "        server.sendmail(from_addr, to_addrs, msg.as_string())"
   ]
  },
  {
   "cell_type": "code",
   "execution_count": 65,
   "metadata": {},
   "outputs": [
    {
     "name": "stdout",
     "output_type": "stream",
     "text": [
      "Enter your Password: ········\n"
     ]
    }
   ],
   "source": [
    "port = 465 \n",
    "username=\"pavvankanamarlapudi@gmail.com\"\n",
    "\n",
    "password  = getpass.getpass(\"Enter your Password: \")\n",
    "fromaddr = username\n",
    "\n",
    "files  = '.\\Attachments'\n",
    "filenames = [os.path.join(files, f) for f in os.listdir(files)]"
   ]
  },
  {
   "cell_type": "code",
   "execution_count": 66,
   "metadata": {},
   "outputs": [
    {
     "name": "stdout",
     "output_type": "stream",
     "text": [
      "Receivers: \n",
      "jyothsna.narayanam@leratechnologies.com\n"
     ]
    }
   ],
   "source": [
    "recruiter_list = pd.read_csv(\"recruiter_list.csv\")\n",
    "\n",
    "recruiter_list = recruiter_list[['Company', 'Location', 'Email', 'Sent']]\n",
    "\n",
    "recruiter_list[\"Email\"]=recruiter_list[\"Email\"].apply(lambda x:x.lower())\n",
    "\n",
    "recruiter_list = recruiter_list.drop_duplicates(['Email'])\n",
    "\n",
    "recruiter_list['TimeStamp']=datetime.datetime.now().strftime(\"%d/%m/%Y %H:%M:%S\")\n",
    "\n",
    "receivers = list(recruiter_list.loc[recruiter_list.Sent!=\"Done\"]['Email'])\n",
    "\n",
    "if len(receivers)>=1:\n",
    "    print(\"Receivers: \\n\"+\"\\n\".join(receivers))\n",
    "else:\n",
    "    print(\"Couldn't Found New receipents!\")\n",
    "    recruiter_list.to_csv(\"recruiter_list.csv\",index=False)"
   ]
  },
  {
   "cell_type": "code",
   "execution_count": null,
   "metadata": {},
   "outputs": [],
   "source": [
    "Body =   \"\"\"\n",
    "            Dear Hiring Manager,<p style=\"text-indent: 40px\">I’m seeking for the postion of <b><font color=\"#5727A1\">Data Scientist/Data Analyst</b></font>  at your Organization. Currently, I have been working as <b><font color=\"#5727A1\">Jr.Data Scientist</font></b> at <b>GSPANN Technologies</b> having <b>2 Years</b> of experience. \n",
    "            PFA for updated <b>Resume</b> and <b>Cover letter</b> for your own reference. </p>I am looking forward to hear more about work role in the form of a formal interview. Please also feel free to call me via the Phone number or Email address listed on my attached resume.\n",
    "\n",
    "            \"\"\""
   ]
  },
  {
   "cell_type": "code",
   "execution_count": 14,
   "metadata": {},
   "outputs": [],
   "source": [
    "for receiver in receivers:\n",
    "    msg = MIMEMultipart()\n",
    "    msg['From'] = fromaddr\n",
    "    msg['To'] = receiver\n",
    "    msg['Subject'] = \"Job Application - Data Science\"\n",
    "    Mail_Body=MIMEText(Body, 'html')\n",
    "    msg.attach(Mail_Body)\n",
    "    \n",
    "    for file in filenames:\n",
    "        part = MIMEBase('application', 'octet-stream')\n",
    "        part.set_payload(open(file, 'rb').read())\n",
    "        Encoders.encode_base64(part)\n",
    "        FileName=file.split(\"\\\\\")[-1]\n",
    "        part.add_header('Content-Disposition', 'attachment; filename=\"%s\"' % FileName)    \n",
    "        msg.attach(part)\n",
    "    \n",
    "#     my_resume = MIMEApplication(open(resume_path, \"rb\").read())\n",
    "#     my_resume.add_header('Content-Disposition', 'attachment', filename=\"Resume-Data Science.pdf\")\n",
    "#     msg.attach(my_resume)\n",
    "    \n",
    "#     my_CoverLetter = MIMEApplication(open(coverletter_path, \"rb\").read())\n",
    "#     my_CoverLetter.add_header('Content-Disposition', 'attachment', filename=\"Cover Letter-Pavan Kumar.docx\")\n",
    "#     msg.attach(my_CoverLetter)\n",
    "    \n",
    "    try:\n",
    "        send_mail(username=username, password=password, from_addr=fromaddr, to_addrs=receiver, msg=msg)\n",
    "        recruiter_list.loc[recruiter_list.Email==receiver,\"Sent\"]=\"Done\"\n",
    "        recruiter_list.loc[recruiter_list.Email==receiver,\"TimeStamp\"]=datetime.datetime.now().strftime(\"%d/%m/%Y %H:%M:%S\")\n",
    "        recruiter_list.to_csv(\"recruiter_list.csv\",index=False)\n",
    "        print(\"Mail send to {} Succesfully and Database has updated!\".format(receiver))\n",
    "       \n",
    "        \n",
    "    except SMTPAuthenticationError:\n",
    "        print('SMTPAuthenticationError')\n",
    "        print(\"Email not sent to\", to_addrs)\n",
    "    except Exception as e:\n",
    "        print(e)"
   ]
  },
  {
   "cell_type": "code",
   "execution_count": 34,
   "metadata": {},
   "outputs": [],
   "source": []
  },
  {
   "cell_type": "code",
   "execution_count": null,
   "metadata": {},
   "outputs": [],
   "source": []
  },
  {
   "cell_type": "code",
   "execution_count": null,
   "metadata": {},
   "outputs": [],
   "source": []
  },
  {
   "cell_type": "code",
   "execution_count": 38,
   "metadata": {},
   "outputs": [
    {
     "data": {
      "text/plain": [
       "'15/05/2019 17:17:19'"
      ]
     },
     "execution_count": 38,
     "metadata": {},
     "output_type": "execute_result"
    }
   ],
   "source": [
    "datetime.datetime.now().strftime(\"%d/%m/%Y %H:%M:%S\")"
   ]
  },
  {
   "cell_type": "markdown",
   "metadata": {},
   "source": [
    "### Reference:"
   ]
  },
  {
   "cell_type": "markdown",
   "metadata": {},
   "source": [
    "https://stackoverflow.com/questions/882712/sending-html-email-using-python"
   ]
  },
  {
   "cell_type": "markdown",
   "metadata": {},
   "source": [
    "https://stackoverflow.com/questions/26582811/gmail-python-multiple-attachments"
   ]
  }
 ],
 "metadata": {
  "kernelspec": {
   "display_name": "Python 3",
   "language": "python",
   "name": "python3"
  },
  "language_info": {
   "codemirror_mode": {
    "name": "ipython",
    "version": 3
   },
   "file_extension": ".py",
   "mimetype": "text/x-python",
   "name": "python",
   "nbconvert_exporter": "python",
   "pygments_lexer": "ipython3",
   "version": "3.6.5"
  }
 },
 "nbformat": 4,
 "nbformat_minor": 2
}
